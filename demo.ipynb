{
 "cells": [
  {
   "cell_type": "code",
   "execution_count": 1,
   "id": "79340bea-2d0a-4814-9fae-2df27e139463",
   "metadata": {},
   "outputs": [
    {
     "data": {
      "application/vnd.jupyter.widget-view+json": {
       "model_id": "614574e42bdb45bea78b00773098619e",
       "version_major": 2,
       "version_minor": 0
      },
      "text/plain": [
       "Loading checkpoint shards:   0%|          | 0/2 [00:00<?, ?it/s]"
      ]
     },
     "metadata": {},
     "output_type": "display_data"
    }
   ],
   "source": [
    "from model import LlamaModel\n",
    "\n",
    "model = LlamaModel.from_pretrained(\"meta-llama/Llama-2-7b-hf\", use_cache=True)"
   ]
  },
  {
   "cell_type": "code",
   "execution_count": 3,
   "id": "f43892d2-1a85-488a-88a6-0de1269e0d85",
   "metadata": {},
   "outputs": [
    {
     "name": "stdout",
     "output_type": "stream",
     "text": [
      "Hello, my name is Katie and I am a 20 year old student at the University of Leeds. I am currently studying a BA in English Literature and Creative Writing. I have been working as a tutor for the past 3 years and have experience tutoring children of all ages. I have a passion for teaching and I am very patient and understanding. I am very friendly and I am always happy to help.\n",
      "I have been working as a tutor for the past 3 years and have experience tutoring children of all ages. I have a passion for teaching and I am very patient and understanding. I am very friendly and I am always\n",
      "\n",
      "AI will primarily impact the world by making it more efficient and productive.\n",
      "AI is a technology that is rapidly changing the world. It is being used in a variety of industries, from healthcare to finance. AI is also being used to improve the efficiency and productivity of businesses.\n",
      "AI is a technology that is rapidly changing the world. It is being used in a variety of industries, from healthcare to finance. AI is also being used to improve the efficiency and productivity of businesses. AI is a technology that is rapidly changing the world. It is being used in a variety of industries, from healthcare to fin\n",
      "\n",
      "Look here! A wild and crazy new book from the author of the bestselling The 4-Hour Workweek.\n",
      "The 4-Hour Body is a health and fitness book like no other. It’s the result of an obsessive quest, spanning more than a decade, to hack the human body using the latest scientific research, and it contains the collective wisdom of hundreds of elite athletes, doctors, scientists, and more.\n",
      "Timothy Ferriss, the #1 New York Times bestselling author of The 4-Hour Workweek, shares his ultimate “get-fit” book and\n"
     ]
    }
   ],
   "source": [
    "generations = model.generate(\n",
    "    [\n",
    "        \"Hello, my name is\",\n",
    "        \"AI will primarily impact the world by\",\n",
    "        \"Look here! A wild\"\n",
    "    ], \n",
    "    max_new_tokens=133,\n",
    "    output_only=False\n",
    ")\n",
    "\n",
    "print(*generations, sep='\\n\\n')"
   ]
  }
 ],
 "metadata": {
  "kernelspec": {
   "display_name": "Python 3 (ipykernel)",
   "language": "python",
   "name": "python3"
  },
  "language_info": {
   "codemirror_mode": {
    "name": "ipython",
    "version": 3
   },
   "file_extension": ".py",
   "mimetype": "text/x-python",
   "name": "python",
   "nbconvert_exporter": "python",
   "pygments_lexer": "ipython3",
   "version": "3.9.16"
  }
 },
 "nbformat": 4,
 "nbformat_minor": 5
}
